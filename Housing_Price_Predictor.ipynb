{
  "nbformat": 4,
  "nbformat_minor": 0,
  "metadata": {
    "colab": {
      "provenance": [],
      "mount_file_id": "1NWkXnqr2l4vjCbtYIQDezwfJIB5hYODn",
      "authorship_tag": "ABX9TyN01CYnXugdFlbIMVUBRlKP"
    },
    "kernelspec": {
      "name": "python3",
      "display_name": "Python 3"
    },
    "language_info": {
      "name": "python"
    }
  },
  "cells": [
    {
      "cell_type": "code",
      "execution_count": 1,
      "metadata": {
        "colab": {
          "base_uri": "https://localhost:8080/"
        },
        "id": "xWrE5Smi35tx",
        "outputId": "252c7f90-1cdc-4fb1-d32e-f8edcae61d65"
      },
      "outputs": [
        {
          "output_type": "stream",
          "name": "stdout",
          "text": [
            "Drive already mounted at /content/drive; to attempt to forcibly remount, call drive.mount(\"/content/drive\", force_remount=True).\n"
          ]
        }
      ],
      "source": [
        "#firstly I will import the data by connecting to my google drive\n",
        "from google.colab import drive\n",
        "drive.mount('/content/drive')"
      ]
    },
    {
      "cell_type": "code",
      "source": [
        "# import the pacakages\n",
        "import pandas as pd\n",
        "import numpy as np\n",
        "import matplotlib.pyplot as plt\n",
        "import sklearn.linear_model as lm\n",
        "import statsmodels.formula.api as smf\n",
        "import statsmodels.api as sm\n",
        "!pip install researchpy\n",
        "import researchpy as rp\n"
      ],
      "metadata": {
        "colab": {
          "base_uri": "https://localhost:8080/"
        },
        "id": "46ffVIC9CFJb",
        "outputId": "22ea6182-b89a-4225-fecf-6e7f273efc9f"
      },
      "execution_count": 2,
      "outputs": [
        {
          "output_type": "stream",
          "name": "stdout",
          "text": [
            "Collecting researchpy\n",
            "  Downloading researchpy-0.3.5-py3-none-any.whl (33 kB)\n",
            "Requirement already satisfied: scipy in /usr/local/lib/python3.10/dist-packages (from researchpy) (1.10.1)\n",
            "Requirement already satisfied: numpy in /usr/local/lib/python3.10/dist-packages (from researchpy) (1.22.4)\n",
            "Requirement already satisfied: pandas in /usr/local/lib/python3.10/dist-packages (from researchpy) (1.5.3)\n",
            "Requirement already satisfied: statsmodels in /usr/local/lib/python3.10/dist-packages (from researchpy) (0.13.5)\n",
            "Requirement already satisfied: patsy in /usr/local/lib/python3.10/dist-packages (from researchpy) (0.5.3)\n",
            "Requirement already satisfied: python-dateutil>=2.8.1 in /usr/local/lib/python3.10/dist-packages (from pandas->researchpy) (2.8.2)\n",
            "Requirement already satisfied: pytz>=2020.1 in /usr/local/lib/python3.10/dist-packages (from pandas->researchpy) (2022.7.1)\n",
            "Requirement already satisfied: six in /usr/local/lib/python3.10/dist-packages (from patsy->researchpy) (1.16.0)\n",
            "Requirement already satisfied: packaging>=21.3 in /usr/local/lib/python3.10/dist-packages (from statsmodels->researchpy) (23.1)\n",
            "Installing collected packages: researchpy\n",
            "Successfully installed researchpy-0.3.5\n"
          ]
        }
      ]
    },
    {
      "cell_type": "code",
      "source": [
        "#Next I will load the dataset\n",
        "\n",
        "HouseDF = pd.read_csv(datafile)\n",
        "HouseDF.head()"
      ],
      "metadata": {
        "colab": {
          "base_uri": "https://localhost:8080/",
          "height": 206
        },
        "id": "M8TK0xT_-0y-",
        "outputId": "fb0b1b04-19b8-4c1a-9452-19c3a73a4d4c"
      },
      "execution_count": 3,
      "outputs": [
        {
          "output_type": "execute_result",
          "data": {
            "text/plain": [
              "   Id  lotArea  quality  condition  BsmtSF  floorOneSF  floorTwoSF  \\\n",
              "0   1     8450        7          5     856         856         854   \n",
              "1   2     9600        6          8    1262        1262           0   \n",
              "2   3    11250        7          5     920         920         866   \n",
              "3   4     9550        7          5     756         961         756   \n",
              "4   5    14260        8          5    1145        1145        1053   \n",
              "\n",
              "   bsmtFullBath  noRooms  firePlaces  garageCars  woodDeckSF  salePrice  \n",
              "0             1        8           0           2           0     208500  \n",
              "1             0        6           1           2         298     181500  \n",
              "2             1        6           1           2           0     223500  \n",
              "3             1        7           1           3           0     140000  \n",
              "4             1        9           1           3         192     250000  "
            ],
            "text/html": [
              "\n",
              "  <div id=\"df-8168222e-6008-4b83-b850-9bb2cf1f8522\">\n",
              "    <div class=\"colab-df-container\">\n",
              "      <div>\n",
              "<style scoped>\n",
              "    .dataframe tbody tr th:only-of-type {\n",
              "        vertical-align: middle;\n",
              "    }\n",
              "\n",
              "    .dataframe tbody tr th {\n",
              "        vertical-align: top;\n",
              "    }\n",
              "\n",
              "    .dataframe thead th {\n",
              "        text-align: right;\n",
              "    }\n",
              "</style>\n",
              "<table border=\"1\" class=\"dataframe\">\n",
              "  <thead>\n",
              "    <tr style=\"text-align: right;\">\n",
              "      <th></th>\n",
              "      <th>Id</th>\n",
              "      <th>lotArea</th>\n",
              "      <th>quality</th>\n",
              "      <th>condition</th>\n",
              "      <th>BsmtSF</th>\n",
              "      <th>floorOneSF</th>\n",
              "      <th>floorTwoSF</th>\n",
              "      <th>bsmtFullBath</th>\n",
              "      <th>noRooms</th>\n",
              "      <th>firePlaces</th>\n",
              "      <th>garageCars</th>\n",
              "      <th>woodDeckSF</th>\n",
              "      <th>salePrice</th>\n",
              "    </tr>\n",
              "  </thead>\n",
              "  <tbody>\n",
              "    <tr>\n",
              "      <th>0</th>\n",
              "      <td>1</td>\n",
              "      <td>8450</td>\n",
              "      <td>7</td>\n",
              "      <td>5</td>\n",
              "      <td>856</td>\n",
              "      <td>856</td>\n",
              "      <td>854</td>\n",
              "      <td>1</td>\n",
              "      <td>8</td>\n",
              "      <td>0</td>\n",
              "      <td>2</td>\n",
              "      <td>0</td>\n",
              "      <td>208500</td>\n",
              "    </tr>\n",
              "    <tr>\n",
              "      <th>1</th>\n",
              "      <td>2</td>\n",
              "      <td>9600</td>\n",
              "      <td>6</td>\n",
              "      <td>8</td>\n",
              "      <td>1262</td>\n",
              "      <td>1262</td>\n",
              "      <td>0</td>\n",
              "      <td>0</td>\n",
              "      <td>6</td>\n",
              "      <td>1</td>\n",
              "      <td>2</td>\n",
              "      <td>298</td>\n",
              "      <td>181500</td>\n",
              "    </tr>\n",
              "    <tr>\n",
              "      <th>2</th>\n",
              "      <td>3</td>\n",
              "      <td>11250</td>\n",
              "      <td>7</td>\n",
              "      <td>5</td>\n",
              "      <td>920</td>\n",
              "      <td>920</td>\n",
              "      <td>866</td>\n",
              "      <td>1</td>\n",
              "      <td>6</td>\n",
              "      <td>1</td>\n",
              "      <td>2</td>\n",
              "      <td>0</td>\n",
              "      <td>223500</td>\n",
              "    </tr>\n",
              "    <tr>\n",
              "      <th>3</th>\n",
              "      <td>4</td>\n",
              "      <td>9550</td>\n",
              "      <td>7</td>\n",
              "      <td>5</td>\n",
              "      <td>756</td>\n",
              "      <td>961</td>\n",
              "      <td>756</td>\n",
              "      <td>1</td>\n",
              "      <td>7</td>\n",
              "      <td>1</td>\n",
              "      <td>3</td>\n",
              "      <td>0</td>\n",
              "      <td>140000</td>\n",
              "    </tr>\n",
              "    <tr>\n",
              "      <th>4</th>\n",
              "      <td>5</td>\n",
              "      <td>14260</td>\n",
              "      <td>8</td>\n",
              "      <td>5</td>\n",
              "      <td>1145</td>\n",
              "      <td>1145</td>\n",
              "      <td>1053</td>\n",
              "      <td>1</td>\n",
              "      <td>9</td>\n",
              "      <td>1</td>\n",
              "      <td>3</td>\n",
              "      <td>192</td>\n",
              "      <td>250000</td>\n",
              "    </tr>\n",
              "  </tbody>\n",
              "</table>\n",
              "</div>\n",
              "      <button class=\"colab-df-convert\" onclick=\"convertToInteractive('df-8168222e-6008-4b83-b850-9bb2cf1f8522')\"\n",
              "              title=\"Convert this dataframe to an interactive table.\"\n",
              "              style=\"display:none;\">\n",
              "        \n",
              "  <svg xmlns=\"http://www.w3.org/2000/svg\" height=\"24px\"viewBox=\"0 0 24 24\"\n",
              "       width=\"24px\">\n",
              "    <path d=\"M0 0h24v24H0V0z\" fill=\"none\"/>\n",
              "    <path d=\"M18.56 5.44l.94 2.06.94-2.06 2.06-.94-2.06-.94-.94-2.06-.94 2.06-2.06.94zm-11 1L8.5 8.5l.94-2.06 2.06-.94-2.06-.94L8.5 2.5l-.94 2.06-2.06.94zm10 10l.94 2.06.94-2.06 2.06-.94-2.06-.94-.94-2.06-.94 2.06-2.06.94z\"/><path d=\"M17.41 7.96l-1.37-1.37c-.4-.4-.92-.59-1.43-.59-.52 0-1.04.2-1.43.59L10.3 9.45l-7.72 7.72c-.78.78-.78 2.05 0 2.83L4 21.41c.39.39.9.59 1.41.59.51 0 1.02-.2 1.41-.59l7.78-7.78 2.81-2.81c.8-.78.8-2.07 0-2.86zM5.41 20L4 18.59l7.72-7.72 1.47 1.35L5.41 20z\"/>\n",
              "  </svg>\n",
              "      </button>\n",
              "      \n",
              "  <style>\n",
              "    .colab-df-container {\n",
              "      display:flex;\n",
              "      flex-wrap:wrap;\n",
              "      gap: 12px;\n",
              "    }\n",
              "\n",
              "    .colab-df-convert {\n",
              "      background-color: #E8F0FE;\n",
              "      border: none;\n",
              "      border-radius: 50%;\n",
              "      cursor: pointer;\n",
              "      display: none;\n",
              "      fill: #1967D2;\n",
              "      height: 32px;\n",
              "      padding: 0 0 0 0;\n",
              "      width: 32px;\n",
              "    }\n",
              "\n",
              "    .colab-df-convert:hover {\n",
              "      background-color: #E2EBFA;\n",
              "      box-shadow: 0px 1px 2px rgba(60, 64, 67, 0.3), 0px 1px 3px 1px rgba(60, 64, 67, 0.15);\n",
              "      fill: #174EA6;\n",
              "    }\n",
              "\n",
              "    [theme=dark] .colab-df-convert {\n",
              "      background-color: #3B4455;\n",
              "      fill: #D2E3FC;\n",
              "    }\n",
              "\n",
              "    [theme=dark] .colab-df-convert:hover {\n",
              "      background-color: #434B5C;\n",
              "      box-shadow: 0px 1px 3px 1px rgba(0, 0, 0, 0.15);\n",
              "      filter: drop-shadow(0px 1px 2px rgba(0, 0, 0, 0.3));\n",
              "      fill: #FFFFFF;\n",
              "    }\n",
              "  </style>\n",
              "\n",
              "      <script>\n",
              "        const buttonEl =\n",
              "          document.querySelector('#df-8168222e-6008-4b83-b850-9bb2cf1f8522 button.colab-df-convert');\n",
              "        buttonEl.style.display =\n",
              "          google.colab.kernel.accessAllowed ? 'block' : 'none';\n",
              "\n",
              "        async function convertToInteractive(key) {\n",
              "          const element = document.querySelector('#df-8168222e-6008-4b83-b850-9bb2cf1f8522');\n",
              "          const dataTable =\n",
              "            await google.colab.kernel.invokeFunction('convertToInteractive',\n",
              "                                                     [key], {});\n",
              "          if (!dataTable) return;\n",
              "\n",
              "          const docLinkHtml = 'Like what you see? Visit the ' +\n",
              "            '<a target=\"_blank\" href=https://colab.research.google.com/notebooks/data_table.ipynb>data table notebook</a>'\n",
              "            + ' to learn more about interactive tables.';\n",
              "          element.innerHTML = '';\n",
              "          dataTable['output_type'] = 'display_data';\n",
              "          await google.colab.output.renderOutput(dataTable, element);\n",
              "          const docLink = document.createElement('div');\n",
              "          docLink.innerHTML = docLinkHtml;\n",
              "          element.appendChild(docLink);\n",
              "        }\n",
              "      </script>\n",
              "    </div>\n",
              "  </div>\n",
              "  "
            ]
          },
          "metadata": {},
          "execution_count": 3
        }
      ]
    },
    {
      "cell_type": "code",
      "source": [
        "#list(data) # to show column names get descriptive statistics etc\n",
        "#list(data) # to show column names get descriptive statistics etc\n",
        "HouseDF.describe()\n",
        "list(HouseDF)\n",
        "HouseDF.columns\n",
        "HouseDF.count()\n",
        "HouseDF.shape"
      ],
      "metadata": {
        "colab": {
          "base_uri": "https://localhost:8080/"
        },
        "id": "RWSIAurKKm0S",
        "outputId": "0b48b598-02c3-4661-c85d-3291053c50c8"
      },
      "execution_count": 4,
      "outputs": [
        {
          "output_type": "execute_result",
          "data": {
            "text/plain": [
              "(1460, 13)"
            ]
          },
          "metadata": {},
          "execution_count": 4
        }
      ]
    },
    {
      "cell_type": "markdown",
      "source": [
        "These shows that: There are 1460 datapoints and 13 columns in our dataset.\n",
        "\n",
        "\n",
        "##Objective\n",
        "\n",
        "The objective of this analysis is to know the features of a house that will determine its price and also predict the price of a house based on the selected features using a multiple linear regression model"
      ],
      "metadata": {
        "id": "6RSN5OWZBSXr"
      }
    },
    {
      "cell_type": "code",
      "source": [
        "#next I will be dividing all of the columns in the dataset excluding the column_id to the target column and input column for further analysis\n",
        "### identify the target  and input (dependent and independent variable )\n",
        "target = 'salePrice'\n",
        "inputDF = ['lotArea', 'quality', 'condition', 'BsmtSF', 'floorOneSF', 'floorTwoSF', 'bsmtFullBath', 'noRooms', 'firePlaces', 'garageCars', 'woodDeckSF']\n",
        "\n"
      ],
      "metadata": {
        "id": "Batn-J3b1F2M"
      },
      "execution_count": 5,
      "outputs": []
    },
    {
      "cell_type": "code",
      "source": [
        "# Fit the multiple regression model\n",
        "X = HouseDF[inputDF]\n",
        "y = HouseDF[target]\n",
        "X = sm.add_constant(X) # add an intercept term\n",
        "model = sm.OLS(y, X).fit() #this is caling out Ordinary Least Squares\n",
        "model\n",
        "# Print the results\n",
        "print(model.summary())"
      ],
      "metadata": {
        "colab": {
          "base_uri": "https://localhost:8080/"
        },
        "id": "DTKDbc_T5tJO",
        "outputId": "12d9b6d4-72e2-4785-a2bc-2f056d7bb6be"
      },
      "execution_count": 6,
      "outputs": [
        {
          "output_type": "stream",
          "name": "stdout",
          "text": [
            "                            OLS Regression Results                            \n",
            "==============================================================================\n",
            "Dep. Variable:              salePrice   R-squared:                       0.781\n",
            "Model:                            OLS   Adj. R-squared:                  0.780\n",
            "Method:                 Least Squares   F-statistic:                     470.3\n",
            "Date:                Tue, 11 Jul 2023   Prob (F-statistic):               0.00\n",
            "Time:                        21:41:41   Log-Likelihood:                -17434.\n",
            "No. Observations:                1460   AIC:                         3.489e+04\n",
            "Df Residuals:                    1448   BIC:                         3.496e+04\n",
            "Df Model:                          11                                         \n",
            "Covariance Type:            nonrobust                                         \n",
            "================================================================================\n",
            "                   coef    std err          t      P>|t|      [0.025      0.975]\n",
            "--------------------------------------------------------------------------------\n",
            "const        -1.209e+05   8030.981    -15.057      0.000   -1.37e+05   -1.05e+05\n",
            "lotArea          0.4019      0.106      3.774      0.000       0.193       0.611\n",
            "quality       2.383e+04   1067.992     22.314      0.000    2.17e+04    2.59e+04\n",
            "condition     3033.0293    902.501      3.361      0.001    1262.681    4803.378\n",
            "BsmtSF          19.8187      4.241      4.674      0.000      11.500      28.137\n",
            "floorOneSF      47.2156      5.713      8.264      0.000      36.009      58.423\n",
            "floorTwoSF      41.0270      4.102     10.002      0.000      32.981      49.073\n",
            "bsmtFullBath  1.343e+04   2034.260      6.601      0.000    9437.954    1.74e+04\n",
            "noRooms        430.4322   1080.332      0.398      0.690   -1688.750    2549.615\n",
            "firePlaces    4869.3590   1798.201      2.708      0.007    1342.002    8396.716\n",
            "garageCars    1.724e+04   1710.334     10.082      0.000    1.39e+04    2.06e+04\n",
            "woodDeckSF      34.8805      8.288      4.209      0.000      18.623      51.138\n",
            "==============================================================================\n",
            "Omnibus:                      444.509   Durbin-Watson:                   1.963\n",
            "Prob(Omnibus):                  0.000   Jarque-Bera (JB):            53293.637\n",
            "Skew:                          -0.230   Prob(JB):                         0.00\n",
            "Kurtosis:                      32.595   Cond. No.                     1.21e+05\n",
            "==============================================================================\n",
            "\n",
            "Notes:\n",
            "[1] Standard Errors assume that the covariance matrix of the errors is correctly specified.\n",
            "[2] The condition number is large, 1.21e+05. This might indicate that there are\n",
            "strong multicollinearity or other numerical problems.\n"
          ]
        }
      ]
    },
    {
      "cell_type": "markdown",
      "source": [
        "The linear regression model has a coefficient of -120,930.5328, which represents the estimated mean value of the sales price when all other independent variables are set to zero.\n",
        "Additionally, each independent variable has a positive coefficient indicating that an increase in that variable is associated with an increase in the estimated sales price, with all other variables held constant.\n",
        "Specifically, the coefficients are as follows: 0.4019 for the square footage of the lot, 23,831.6846 for the quality of the house, 3,033.0293 for the condition of the house, 19.8187 for the square footage of the basement, 47.2156 for the first floor square footage, 41.0270 for the second floor square footage, 13,428.3661 for a basement with a full bath, 430.4322 for the number of rooms above ground, 4,869.3590 for the number of fireplaces, 17,243.3747 for the number of cars that can fit in the garage, and 34.8805 for the square footage of the wood deck.\n",
        "\n",
        "The model used in this regression analysis is Ordinary Least Squares (OLS), and the model has a total of 1460 observations and 11 independent variables. With the independent variables, I was able to build a model a multiple linear regression model that predicts the price of a house based on the above variables. The P-value of the overall model is 0.000, which is less than 0.005 indicating that the model is statistically significant.\n",
        "In the image above, the R-squared Value is high at 0.781, indicating that 78.1% of the variability in the Sales price is explained by the independent variables included in the model.\n",
        "\n",
        "\n",
        "Based on the values above, the mathematical equation for the model is:\n",
        "\n",
        "salePrice= -120920.5328 +0.4019lotArea+23831.6846quality + 3033.0293condition+19.8187BsmtSF+47.2156floorOneSF+41.0270floorTwoSF + 13428.3661bsmtFullBath+430.4322noRooms + 4869.3590firePlaces +17243.3747garageCars + 34.8805woodDeckSF  "
      ],
      "metadata": {
        "id": "B6BuPipy5-KK"
      }
    }
  ]
}